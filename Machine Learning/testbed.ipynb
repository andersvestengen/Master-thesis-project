{
 "cells": [
  {
   "cell_type": "code",
   "execution_count": 23,
   "metadata": {},
   "outputs": [
    {
     "name": "stdout",
     "output_type": "stream",
     "text": [
      "torch.Size([1, 3, 256, 256])\n"
     ]
    }
   ],
   "source": [
    "import torch\n",
    "import numpy as np\n",
    "\n",
    "\n",
    "patch = (1, 512 // 2 ** 4, 512 // 2 ** 4)\n",
    "imagestuff = torch.ones(([1, 3, 256, 256]))\n",
    "\n",
    "\n",
    "print(imagestuff.shape)"
   ]
  },
  {
   "cell_type": "code",
   "execution_count": 17,
   "metadata": {},
   "outputs": [
    {
     "name": "stdout",
     "output_type": "stream",
     "text": [
      "numpy convert size: (258, 387, 3)\n",
      "torch convert size: torch.Size([3, 258, 387])\n",
      "dataloader convert size: torch.Size([1, 3, 258, 387])\n",
      "Dataset convert size: torch.Size([3, 258, 387])\n"
     ]
    }
   ],
   "source": [
    "#Running the test-set and checking from where the problem comes. \n",
    "from Datasets.GAN_Dataset_1 import GAN_dataset\n",
    "from torch.utils.data import DataLoader\n",
    "dir = \"C:/Users/ander/Documents/Master-thesis-project/Machine Learning/TrainingImageGenerator\"\n",
    "from PIL import Image\n",
    "Dataset_test = GAN_dataset(workingdir=dir)\n",
    "testloader = DataLoader(Dataset_test, num_workers=1, batch_size=1, shuffle=False)\n",
    "import os\n",
    "from torchvision import transforms\n",
    "import glob\n",
    "import numpy as np\n",
    "imagefolder=\"/NewImages/\"\n",
    "\n",
    "\n",
    "#Retrieving my own images\n",
    "workingdir = dir\n",
    "OriginalImagePathglob = workingdir + imagefolder + \"**/*.jpg\"\n",
    "OriginalImagesList = sorted(glob.glob(OriginalImagePathglob, recursive=True))\n",
    "\n",
    "image = Image.open(OriginalImagesList[0])\n",
    "\n",
    "imarr = np.asarray(image)\n",
    "print(\"numpy convert size:\", imarr.shape)\n",
    "\n",
    "imtensor = transforms.ToTensor()(image)\n",
    "\n",
    "print(\"torch convert size:\", imtensor.size())\n",
    "\n",
    "\n",
    "sampleim, samplesample = next(iter(testloader))\n",
    "\n",
    "\n",
    "print(\"dataloader convert size:\", sampleim.size())\n",
    "\n",
    "datasetim, datasetsample = Dataset_test[0]\n",
    "\n",
    "print(\"Dataset convert size:\", datasetim.size())\n",
    "\n"
   ]
  },
  {
   "cell_type": "code",
   "execution_count": 25,
   "metadata": {},
   "outputs": [],
   "source": [
    "Tensor = torch.cuda.FloatTensor if torch.cuda.is_available() else torch.FloatTensor\n",
    "patch = (1, 512 // 2 ** 4, 512 // 2 ** 4)\n",
    "valid = Tensor(np.ones((sampleim.size(0), *patch))).requires_grad=False"
   ]
  },
  {
   "cell_type": "code",
   "execution_count": null,
   "metadata": {},
   "outputs": [],
   "source": []
  }
 ],
 "metadata": {
  "kernelspec": {
   "display_name": "Python 3.10.7 64-bit",
   "language": "python",
   "name": "python3"
  },
  "language_info": {
   "codemirror_mode": {
    "name": "ipython",
    "version": 3
   },
   "file_extension": ".py",
   "mimetype": "text/x-python",
   "name": "python",
   "nbconvert_exporter": "python",
   "pygments_lexer": "ipython3",
   "version": "3.10.7"
  },
  "orig_nbformat": 4,
  "vscode": {
   "interpreter": {
    "hash": "a4b831d8046030f06c4e1eda3c51cd4515b11159e253f3c0059ed00cc8ec9b9a"
   }
  }
 },
 "nbformat": 4,
 "nbformat_minor": 2
}
