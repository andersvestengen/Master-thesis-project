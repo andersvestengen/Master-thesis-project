{
 "cells": [
  {
   "cell_type": "code",
   "execution_count": 23,
   "metadata": {},
   "outputs": [
    {
     "name": "stdout",
     "output_type": "stream",
     "text": [
      "torch.Size([1, 3, 256, 256])\n"
     ]
    }
   ],
   "source": [
    "import torch\n",
    "import numpy as np\n",
    "\n",
    "\n",
    "patch = (1, 512 // 2 ** 4, 512 // 2 ** 4)\n",
    "imagestuff = torch.ones(([1, 3, 256, 256]))\n",
    "\n",
    "\n",
    "print(imagestuff.shape)"
   ]
  },
  {
   "cell_type": "code",
   "execution_count": 17,
   "metadata": {},
   "outputs": [
    {
     "name": "stdout",
     "output_type": "stream",
     "text": [
      "numpy convert size: (258, 387, 3)\n",
      "torch convert size: torch.Size([3, 258, 387])\n",
      "dataloader convert size: torch.Size([1, 3, 258, 387])\n",
      "Dataset convert size: torch.Size([3, 258, 387])\n"
     ]
    }
   ],
   "source": [
    "#Running the test-set and checking from where the problem comes. \n",
    "from Datasets.GAN_Dataset_1 import GAN_dataset\n",
    "from torch.utils.data import DataLoader\n",
    "dir = \"C:/Users/ander/Documents/Master-thesis-project/Machine Learning/TrainingImageGenerator\"\n",
    "from PIL import Image\n",
    "Dataset_test = GAN_dataset(workingdir=dir)\n",
    "testloader = DataLoader(Dataset_test, num_workers=1, batch_size=1, shuffle=False)\n",
    "import os\n",
    "from torchvision import transforms\n",
    "import glob\n",
    "import numpy as np\n",
    "imagefolder=\"/NewImages/\"\n",
    "\n",
    "\n",
    "#Retrieving my own images\n",
    "workingdir = dir\n",
    "OriginalImagePathglob = workingdir + imagefolder + \"**/*.jpg\"\n",
    "OriginalImagesList = sorted(glob.glob(OriginalImagePathglob, recursive=True))\n",
    "\n",
    "image = Image.open(OriginalImagesList[0])\n",
    "\n",
    "imarr = np.asarray(image)\n",
    "print(\"numpy convert size:\", imarr.shape)\n",
    "\n",
    "imtensor = transforms.ToTensor()(image)\n",
    "\n",
    "print(\"torch convert size:\", imtensor.size())\n",
    "\n",
    "\n",
    "sampleim, samplesample = next(iter(testloader))\n",
    "\n",
    "\n",
    "print(\"dataloader convert size:\", sampleim.size())\n",
    "\n",
    "datasetim, datasetsample = Dataset_test[0]\n",
    "\n",
    "print(\"Dataset convert size:\", datasetim.size())\n",
    "\n"
   ]
  },
  {
   "cell_type": "code",
   "execution_count": 1,
   "metadata": {},
   "outputs": [
    {
     "name": "stderr",
     "output_type": "stream",
     "text": [
      "c:\\Users\\ander\\AppData\\Local\\Programs\\Python\\Python310\\lib\\site-packages\\tqdm\\auto.py:22: TqdmWarning: IProgress not found. Please update jupyter and ipywidgets. See https://ipywidgets.readthedocs.io/en/stable/user_install.html\n",
      "  from .autonotebook import tqdm as notebook_tqdm\n"
     ]
    }
   ],
   "source": [
    "#Testing the pixel defect generator in the Dataset\n",
    "from Datasets.GAN_Dataset_1 import GAN_dataset\n",
    "from torch.utils.data import DataLoader\n",
    "dir = \"C:/Users/ander/Documents/Master-thesis-project/Machine Learning/TrainingImageGenerator\"\n",
    "from PIL import Image\n",
    "from torchvision import transforms\n",
    "import torch\n",
    "\n",
    "def_transform = transforms.Compose([\n",
    "        transforms.CenterCrop(255),\n",
    "        transforms.ToTensor(),\n",
    "        ])\n",
    "\n",
    "\n",
    "defectCreator = GAN_dataset(seed=4, workingdir=dir, transform=def_transform)\n",
    "\n",
    "image, sample = defectCreator[1]\n",
    "\n",
    "im = transforms.ToPILImage()(image)\n",
    "\n",
    "sm = transforms.ToPILImage()(sample)\n",
    "\n",
    "im.show()\n",
    "sm.show()"
   ]
  },
  {
   "cell_type": "code",
   "execution_count": 17,
   "metadata": {},
   "outputs": [
    {
     "name": "stdout",
     "output_type": "stream",
     "text": [
      "(1, 1, 32, 32)\n",
      "torch.Size([1, 1, 32, 32])\n"
     ]
    }
   ],
   "source": [
    "import numpy as np\n",
    "import torch \n",
    "\n",
    "imagestuff = torch.ones(([1, 3, 256, 256]))\n",
    "patch = (1, 512 // 2 ** 4, 512 // 2 ** 4)\n",
    "         \n",
    "fake = torch.from_numpy(np.zeros((imagestuff.size(0), *patch))).requires_grad=False\n",
    "\n",
    "input = imagestuff.size(0), *patch\n",
    "\n",
    "zeros = torch.zeros(input)\n",
    "\n",
    "\n",
    "\n",
    "print(input)\n",
    "\n",
    "print(zeros.size())\n",
    "\n"
   ]
  },
  {
   "cell_type": "code",
   "execution_count": 18,
   "metadata": {},
   "outputs": [],
   "source": [
    "import numpy as np\n",
    "#Convolutional calculator\n",
    "# [(W−K+2P)/S]+1\n",
    "def ConvCalc(input, kernel, padding=1, stride=1, batch=1, Channels=1):\n",
    "    dimension = (input - kernel + 2*padding) / ( stride ) + 1\n",
    "    channelout = np.sum()"
   ]
  },
  {
   "cell_type": "code",
   "execution_count": 19,
   "metadata": {},
   "outputs": [
    {
     "name": "stdout",
     "output_type": "stream",
     "text": [
      "124.0\n"
     ]
    }
   ],
   "source": [
    "print(ConvCalc(128, 5, padding=0))"
   ]
  },
  {
   "cell_type": "code",
   "execution_count": null,
   "metadata": {},
   "outputs": [],
   "source": []
  }
 ],
 "metadata": {
  "kernelspec": {
   "display_name": "Python 3.10.7 64-bit",
   "language": "python",
   "name": "python3"
  },
  "language_info": {
   "codemirror_mode": {
    "name": "ipython",
    "version": 3
   },
   "file_extension": ".py",
   "mimetype": "text/x-python",
   "name": "python",
   "nbconvert_exporter": "python",
   "pygments_lexer": "ipython3",
   "version": "3.10.7"
  },
  "orig_nbformat": 4,
  "vscode": {
   "interpreter": {
    "hash": "a4b831d8046030f06c4e1eda3c51cd4515b11159e253f3c0059ed00cc8ec9b9a"
   }
  }
 },
 "nbformat": 4,
 "nbformat_minor": 2
}
